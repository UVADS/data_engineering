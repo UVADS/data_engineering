{
 "cells": [
  {
   "cell_type": "markdown",
   "id": "e6f44462",
   "metadata": {},
   "source": [
    "## Git and Github lecture Slides (notes)\n",
    "* Summer 2023, new lecture"
   ]
  },
  {
   "cell_type": "markdown",
   "id": "90a8507e",
   "metadata": {},
   "source": [
    "### Rerources\n",
    "* [Pro Git Second Edition - Chacon/Straub](https://learning.oreilly.com/library/view/pro-git-second/9781484200766/)"
   ]
  },
  {
   "cell_type": "markdown",
   "id": "879cdaf8",
   "metadata": {},
   "source": [
    "## Objectives\n",
    "* Distinguish between git and github\n",
    "* Describe why SSH and how to assign a key to a github account\n",
    "* Checking version of git on local and testing connection to github via SSH\n",
    "\n",
    "### basic github workflows\n",
    "* Basic workflow\n",
    "    - create a new repository in github with a README.md\n",
    "    - clone to local drive\n",
    "    - edit the README.md locally\n",
    "    - git add the README.md\n",
    "    - git commit the README.md\n",
    "    - git push\n",
    "    - verify update in github UI\n",
    "    \n",
    "* Basic branch and creating a pull request\n",
    "    - create a branch locally\n",
    "    - edit, add, and commit a local file\n",
    "    - create a pull request\n",
    "    - review the pull request (self review in this case)\n",
    "    - inspect branching in github UI\n",
    "    - merge pull request\n",
    "\n",
    "* Common operations\n",
    "    - distinguish between local and github operations (push, pull)\n",
    "    - Checking for conflicts or out of sync branches\n",
    "    - what is a merge, auto resolve out of synch branches\n",
    "    - how to remove last commit\n",
    "    - rebasing a branch to avoid conflicts\n",
    "    \n",
    "* Quick overview for distributed version control\n",
    "    - individual repository\n",
    "    - corporate repository\n",
    "        - branching, PR review, release workflows\n",
    "    - open source and inter corporate repositoires\n",
    "        - forking\n",
    "        - PRs across forks\n",
    "\n"
   ]
  },
  {
   "cell_type": "code",
   "execution_count": null,
   "id": "7f10dcd1",
   "metadata": {},
   "outputs": [],
   "source": []
  }
 ],
 "metadata": {
  "kernelspec": {
   "display_name": "Python 3 (ipykernel)",
   "language": "python",
   "name": "python3"
  },
  "language_info": {
   "codemirror_mode": {
    "name": "ipython",
    "version": 3
   },
   "file_extension": ".py",
   "mimetype": "text/x-python",
   "name": "python",
   "nbconvert_exporter": "python",
   "pygments_lexer": "ipython3",
   "version": "3.11.2"
  }
 },
 "nbformat": 4,
 "nbformat_minor": 5
}
