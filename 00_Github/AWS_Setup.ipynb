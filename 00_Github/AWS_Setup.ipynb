{
 "cells": [
  {
   "cell_type": "markdown",
   "id": "cbb67ba1",
   "metadata": {},
   "source": [
    "## Setting up AWS environment for linux, and docker\n",
    "Instructions for setting an AWS EC2 instance running ubuntu, plus additionally loading docker and the Airflow image\n",
    "\n",
    "The basic setup is the same for both.  We will use a small instance to explore linux, and then halfway through the course we'll repeat the sequence on a larger instance with enough resources to run Docker images."
   ]
  },
  {
   "cell_type": "markdown",
   "id": "072974e1",
   "metadata": {},
   "source": [
    "## Basic Linux setup\n",
    "\n",
    "## requirements\n",
    "* create ssh key pair\n",
    "\n",
    "* EC2\n",
    "* Unbuntu LTS 10.4\n",
    "* **t2.micro**\n",
    "* use ssh key created earlier\n",
    "* select your home ip\n",
    "* connect via `ssh -i <path to key> ubuntu@<ip from ui>`\n",
    "\n",
    "## !! Gotchas\n",
    "* when you grab the ip for your instance, make sure you get the **public** not the **private** ip\n"
   ]
  },
  {
   "cell_type": "markdown",
   "id": "ee376cef",
   "metadata": {},
   "source": [
    "## Setting up a larger instance with a larger capacity and loading Docker\n",
    "Repeat the same instrauctions for the first instance, however we'll need to use a `t2.large` instance this time around.\n",
    "\n",
    "* [GPG: GNU Privacy Guard](https://www.goanywhere.com/blog/what-is-gpg)\n",
    "\n",
    "* `sudo apt update`\n",
    "\n",
    "Next, install a few prerequisite packages which let apt use packages over HTTPS:\n",
    "* `sudo apt install apt-transport-https ca-certificates curl software-properties-common`\n",
    "\n",
    "Then add the GPG key for the official Docker repository to your system:\n",
    "* `curl -fsSL https://download.docker.com/linux/ubuntu/gpg | sudo gpg --dearmor -o /usr/share/keyrings/docker-archive-keyring.gpg`\n",
    "\n",
    "Add the Docker repository to APT sources:\n",
    "* `echo \"deb [arch=$(dpkg --print-architecture) signed-by=/usr/share/keyrings/docker-archive-keyring.gpg] https://download.docker.com/linux/ubuntu $(lsb_release -cs) stable\" | sudo tee /etc/apt/sources.list.d/docker.list > /dev/null`\n",
    "\n",
    "Update your existing list of packages again for the addition to be recognized:\n",
    "* `sudo apt update`\n",
    "\n",
    "Make sure you are about to install from the Docker repo instead of the default Ubuntu repo:\n",
    "* `apt-cache policy docker-ce`\n",
    "\n",
    "Finally, install Docker:\n",
    "* `sudo apt install docker-ce`\n",
    "\n",
    "Docker should now be installed, the daemon started, and the process enabled to start on boot. Check that it’s running:\n",
    "* `sudo systemctl status docker`"
   ]
  },
  {
   "cell_type": "markdown",
   "id": "3ef80b55",
   "metadata": {},
   "source": [
    "\n",
    "* `sudo su -`\n",
    "* `passwd ubuntu`\n",
    "    - you will prompted for new password\n",
    "    - re-enter password\n",
    "    - exit\n",
    "* `sudo su - ${USER}`\n",
    "* You should now be able to run docker without having to use sudo"
   ]
  },
  {
   "cell_type": "markdown",
   "id": "53a29031",
   "metadata": {},
   "source": [
    "* `touch .env`\n",
    "* Add these two lines\n",
    "```\n",
    "AIRFLOW_UID=50000\n",
    "AIRFLOW_GID=0\n",
    "```\n",
    "\n",
    "setup airflow environment\n",
    "```\n",
    "mkdir -p ./dags ./logs ./plugins ./config\n",
    "echo -e \"AIRFLOW_UID=$(id -u)\" > .env\n",
    "```\n",
    "first run\n",
    "```\n",
    "docker compose up airflow-init\n",
    "```\n",
    "\n",
    "```\n",
    "docker-compose up\n",
    "```\n",
    "\n",
    "From another window session...\n",
    "```\n",
    "curl http://localhost:8080\n",
    "```\n",
    "\n",
    "Next: we need to open port 8080 to external traffic to see the UI"
   ]
  },
  {
   "cell_type": "markdown",
   "id": "8301eb13",
   "metadata": {},
   "source": [
    "## links\n",
    "* https://airflow.apache.org/docs/apache-airflow/2.6.2/docker-compose.yaml\n",
    "* https://stackoverflow.com/questions/69237178/how-to-set-up-correctly-environment-variables-for-airflow-using-docker-compose-i\n",
    "* https://airflow.apache.org/docs/apache-airflow/stable/howto/docker-compose/index.html"
   ]
  },
  {
   "cell_type": "markdown",
   "id": "ab299930",
   "metadata": {},
   "source": [
    "```\n",
    "error WARNING!!!: Not enough Disk space available for Docker.\n",
    "At least 10 GBs recommended. You have 2.0G\n",
    "```"
   ]
  }
 ],
 "metadata": {
  "kernelspec": {
   "display_name": "Python 3 (ipykernel)",
   "language": "python",
   "name": "python3"
  },
  "language_info": {
   "codemirror_mode": {
    "name": "ipython",
    "version": 3
   },
   "file_extension": ".py",
   "mimetype": "text/x-python",
   "name": "python",
   "nbconvert_exporter": "python",
   "pygments_lexer": "ipython3",
   "version": "3.11.3"
  }
 },
 "nbformat": 4,
 "nbformat_minor": 5
}
