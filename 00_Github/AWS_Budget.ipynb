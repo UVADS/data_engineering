{
 "cells": [
  {
   "cell_type": "markdown",
   "id": "a25a549a",
   "metadata": {},
   "source": [
    "## AWS budget for running Airflow\n",
    "\n",
    "### Assumptions/Considerations\n",
    "* Heaviest load will be Airflow, which from their info will require min 4GB, but suggest 8GB ideally\n",
    "* Amazon tiers matching are\n",
    "| AWS tier  | RAM(GB)   | num CPUs   | Rate      |\n",
    "| :---      | ---       | ---        | ---       |\n",
    "| t2.micro  |  1        |  1         | free tier |\n",
    "| t2.medium |  4        |  2         | 0.0464    |\n",
    "| t2.large  |  8        |  2         | 0.0928    |\n",
    "| t2.xlarge |  16       |  4         | 0.1856    |\n",
    "* 25 students\n",
    "* 10 hours/week\n",
    "* 6 weeks (we only need the above free-tier from Airflow onwards, halfway through course)\n",
    "* AWS free tier includes 750 hrs or one year, whichever maxes first"
   ]
  },
  {
   "cell_type": "code",
   "execution_count": 34,
   "id": "4d2d2c85",
   "metadata": {},
   "outputs": [],
   "source": [
    "def cost(students=25, hrs_week=10, weeks=12):\n",
    "    # straight up calculating for all three aws tiers with a 'steady state' through the course\n",
    "    print(f\"===== {students} students for {weeks} weeks at **>{hrs_week} hours per week<** =====\")\n",
    "    print(f\"\\nTotal hours: {hrs_week*weeks}\")\n",
    "    print(\"\\nTotal costs per tier:\")\n",
    "    aws_pricing = {\n",
    "        't2.medium': 0.0464,\n",
    "        't2.large': 0.0928,\n",
    "        't2.xlarge': 0.1856\n",
    "    }\n",
    "    for tier in aws_pricing.keys():\n",
    "        rate = aws_pricing.get(tier, None)\n",
    "        assert rate ,f\"No rate for {aws_tier}\"\n",
    "        \n",
    "        cost = rate * hrs_week * weeks * students\n",
    "        \n",
    "        print(f\"{tier}:\\t{cost}\")\n",
    "    "
   ]
  },
  {
   "cell_type": "markdown",
   "id": "d64e5a65",
   "metadata": {},
   "source": [
    "## Rough calculations for 10 hrs/week, and 20 hrs/week"
   ]
  },
  {
   "cell_type": "code",
   "execution_count": 35,
   "id": "7f1d6ee3",
   "metadata": {},
   "outputs": [
    {
     "name": "stdout",
     "output_type": "stream",
     "text": [
      "===== 25 students for 6 weeks at **>10 hours per week<** =====\n",
      "\n",
      "Total hours: 60\n",
      "\n",
      "Total costs per tier:\n",
      "t2.medium:\t69.6\n",
      "t2.large:\t139.2\n",
      "t2.xlarge:\t278.4\n"
     ]
    }
   ],
   "source": [
    "cost(students=25, hrs_week=10, weeks=6)"
   ]
  },
  {
   "cell_type": "code",
   "execution_count": 36,
   "id": "0fff975d",
   "metadata": {},
   "outputs": [
    {
     "name": "stdout",
     "output_type": "stream",
     "text": [
      "===== 25 students for 6 weeks at **>20 hours per week<** =====\n",
      "\n",
      "Total hours: 120\n",
      "\n",
      "Total costs per tier:\n",
      "t2.medium:\t139.2\n",
      "t2.large:\t278.4\n",
      "t2.xlarge:\t556.8\n"
     ]
    }
   ],
   "source": [
    "cost(students=25, hrs_week=20, weeks=6)"
   ]
  },
  {
   "cell_type": "markdown",
   "id": "8563997e",
   "metadata": {},
   "source": [
    "## Summary\n",
    "\n",
    "If we use free-tier in first half of course, and move to suggested ideal size, t2.large.  Then we can get a lower/upper on a range corresponding to 10/20 hours per week.\n",
    "\n",
    "## Roughly 150 USD to 300 USD for all students\n",
    "\n",
    "## Pros\n",
    "* Directly interacting with AWS hands on\n",
    "* Uniformity across all student environments, saving time trouble-shooting installs\n",
    "* No leftovers on student's machines after course (this was mentioned in the comments)\n",
    "* If we set up SSH keys, assistance can be done pair programming remotely (tmux setup)\n",
    "\n",
    "\n",
    "## Cons\n",
    "* If someone inadvertedly leaves a machine running that could cost roughly an additional 2.50 USD a day, (18 USD week), **PER** student\n",
    "* Additional course time dedicated to setting up AWS EC2 instance and SSH.  However, this is also listed as a Pro in the list above... it is after all a valuable real world skill to have\n",
    "* I thought this would help with automated grading, but it actually doesn't, a preferred method would still be to pull an update on a student's git repository and run that through tests\n",
    "\n"
   ]
  }
 ],
 "metadata": {
  "kernelspec": {
   "display_name": "Python 3 (ipykernel)",
   "language": "python",
   "name": "python3"
  },
  "language_info": {
   "codemirror_mode": {
    "name": "ipython",
    "version": 3
   },
   "file_extension": ".py",
   "mimetype": "text/x-python",
   "name": "python",
   "nbconvert_exporter": "python",
   "pygments_lexer": "ipython3",
   "version": "3.11.2"
  }
 },
 "nbformat": 4,
 "nbformat_minor": 5
}
